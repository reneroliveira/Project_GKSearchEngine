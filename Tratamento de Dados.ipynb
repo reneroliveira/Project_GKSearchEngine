{
 "cells": [
  {
   "cell_type": "code",
   "execution_count": 249,
   "metadata": {},
   "outputs": [],
   "source": [
    "import re\n",
    "arquivo = open('arch.txt', 'r') #arquivo original\n",
    "arquivo2 = open('arch1.txt', 'w') #abrir o arquivo em modo leitura\n",
    "\n",
    "for linha in arquivo:\n",
    "        lista = re.findall('[a-zA-Z0-9]+',linha)\n",
    "        \n",
    "        linha = (\" \").join(lista)\n",
    "        if linha == \"ENDOFARTICLE\":\n",
    "             arquivo2.write('\\n')\n",
    "        elif linha == 'doc':\n",
    "             arquivo2.write('\\n')\n",
    "        \n",
    "        elif len(lista) > 1 and lista[0] == \"doc\":\n",
    "            l = lista[-2:]\n",
    "            linha = (\" \").join(l)\n",
    "            arquivo2.write(linha+'\\n')\n",
    "        else:        \n",
    "             arquivo2.write(linha.lower())\n",
    "   \n",
    "        \n",
    "        \n",
    "    \n",
    "arquivo2.close()\n",
    "arquivo.close()\n"
   ]
  },
  {
   "cell_type": "code",
   "execution_count": 243,
   "metadata": {},
   "outputs": [
    {
     "ename": "SyntaxError",
     "evalue": "invalid syntax (<ipython-input-243-bb238ceab595>, line 1)",
     "output_type": "error",
     "traceback": [
      "\u001b[1;36m  File \u001b[1;32m\"<ipython-input-243-bb238ceab595>\"\u001b[1;36m, line \u001b[1;32m1\u001b[0m\n\u001b[1;33m    elif lista[0] == 'doc' and  len(lista) >1:\u001b[0m\n\u001b[1;37m       ^\u001b[0m\n\u001b[1;31mSyntaxError\u001b[0m\u001b[1;31m:\u001b[0m invalid syntax\n"
     ]
    }
   ],
   "source": [
    "elif lista[0] == 'doc' and  len(lista) >1:\n",
    "             l = lista[-2:]"
   ]
  },
  {
   "cell_type": "code",
   "execution_count": null,
   "metadata": {},
   "outputs": [],
   "source": [
    " elif linha == 'doc':\n",
    "             arquivo2.write('\\n')"
   ]
  }
 ],
 "metadata": {
  "kernelspec": {
   "display_name": "Python 3",
   "language": "python",
   "name": "python3"
  },
  "language_info": {
   "codemirror_mode": {
    "name": "ipython",
    "version": 3
   },
   "file_extension": ".py",
   "mimetype": "text/x-python",
   "name": "python",
   "nbconvert_exporter": "python",
   "pygments_lexer": "ipython3",
   "version": "3.7.6"
  }
 },
 "nbformat": 4,
 "nbformat_minor": 2
}

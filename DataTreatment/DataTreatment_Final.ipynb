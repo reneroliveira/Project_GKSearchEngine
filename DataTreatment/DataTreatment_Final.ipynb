{
 "cells": [
  {
   "cell_type": "markdown",
   "metadata": {},
   "source": [
    "## Extração das Palavras Únicas\n",
    "> É pré-requisito a pasta [**raw.en**](https://www.cs.upc.edu/~nlp/wikicorpus/raw.en.tgz) estar na pasta **DataTreatment**. \n",
    "\n",
    "Este processo é bastante custoso, é recomendável executá-lo em computadores com __16GB de RAM__ ou mais.\n",
    "\n",
    "Caso não tenha estas configurações, o arquivo resultado pode ser baixado no link disponível no README do repositório\n",
    "\n",
    "Três processos ocorrerão na célula a seguir:\n",
    "- Criação de um dicionário cujas chaves são as palavras únicas e os valores são os documentos e as frequências (esta parte consome mais memória pois o dicionário é armazenano na RAM)\n",
    "- Extração do dicionário para arquivos de texto que terão em cada palavra, uma lista de ID's e frequência. (Estes arquivos são salvos na pasta \"words\")\n",
    "- Criação de uma outra base de arquivos que ordena os ID's em ordem crescente (utilizando mergesort) armazenada nos arquivos anteriores (Será gerada a pasta final \"sorted_words2\")\n",
    "\n",
    "Os arquivos prontos estão disponíveis [neste link](https://gvmail-my.sharepoint.com/personal/b39398_fgv_edu_br/_layouts/15/onedrive.aspx?id=%2Fpersonal%2Fb39398%5Ffgv%5Fedu%5Fbr%2FDocuments%2FSemestre%203%2FData%5FStructures%5Fand%5FAlgorithms%2FProject%5FGKSearchEngine%2FArquivos), __Salientamos que nada descrito a__"
   ]
  },
  {
   "cell_type": "code",
   "execution_count": null,
   "metadata": {},
   "outputs": [],
   "source": [
    "import get_words as gw\n",
    "\n",
    "gw.extract_words()\n",
    "gw.sort_articles()"
   ]
  },
  {
   "cell_type": "markdown",
   "metadata": {},
   "source": [
    "## Extração dos Títulos\n",
    "\n",
    "Bom, execute a célula abaixo para a criação da pasta **aNames**. Dentro dessa pasta, teremos, em cada arquivo, todos os indexes e seus respectivos títulos. Esse passo nos vai facilitar a leitura e será mais rápido exibir os títulos na tela.  \n",
    "\n",
    "> Lembre-se de que é pré-requisito a pasta **raw.en** estar na pasta **DataTreatment**. "
   ]
  },
  {
   "cell_type": "code",
   "execution_count": null,
   "metadata": {},
   "outputs": [],
   "source": [
    "import os\n",
    "os.chdir(os.getcwd()+\"/aTales/\")\n",
    "from aTales import aMaker\n",
    "os.chdir(\"/..\")"
   ]
  },
  {
   "cell_type": "markdown",
   "metadata": {},
   "source": [
    "## Tratamento dos Documentos\n",
    "\n",
    "A execução de **aTaker.py** fará recolhermos os textos e deixá-los mais fáceis de serem retornados. Os resultados desta etapa estarão na pasta aTales/aTexts/"
   ]
  },
  {
   "cell_type": "code",
   "execution_count": 3,
   "metadata": {},
   "outputs": [
    {
     "name": "stdout",
     "output_type": "stream",
     "text": [
      "Taking Files: 164 of 164. Finished.\n"
     ]
    }
   ],
   "source": [
    "import os\n",
    "os.chdir(os.getcwd()+\"/aTales/\")\n",
    "from aTales import aTaker\n",
    "os.chdir(\"/..\")"
   ]
  },
  {
   "cell_type": "code",
   "execution_count": null,
   "metadata": {},
   "outputs": [],
   "source": []
  }
 ],
 "metadata": {
  "kernelspec": {
   "display_name": "Python 3",
   "language": "python",
   "name": "python3"
  },
  "language_info": {
   "codemirror_mode": {
    "name": "ipython",
    "version": 3
   },
   "file_extension": ".py",
   "mimetype": "text/x-python",
   "name": "python",
   "nbconvert_exporter": "python",
   "pygments_lexer": "ipython3",
   "version": "3.7.3"
  }
 },
 "nbformat": 4,
 "nbformat_minor": 2
}
